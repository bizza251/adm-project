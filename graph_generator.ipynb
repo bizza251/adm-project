{
 "cells": [
  {
   "cell_type": "code",
   "execution_count": 1,
   "metadata": {},
   "outputs": [],
   "source": [
    "def path_cost(path : list, weights : dict, cycle=True) -> int:\n",
    "    \"\"\"Computes the cost of the given path\n",
    "\n",
    "    Args:\n",
    "        path (list): tour taken\\n\n",
    "        weights (dict): key -> edge : value -> weight.\\n\n",
    "        cycle (bool, optional): [description]. Defaults to True.\\n\n",
    "\n",
    "    Returns:\n",
    "        int: final cost\n",
    "    \"\"\"\n",
    "    cost = 0\n",
    "    for i in range(len(path) - 1):\n",
    "        try:\n",
    "            if (path[i], path[i + 1]) in weights.keys():\n",
    "                cost += weights[(path[i],path[i+1])]\n",
    "            else:\n",
    "                cost += weights[(path[i + 1],path[i])]\n",
    "        except:\n",
    "            if cycle:\n",
    "                if (path[i], path[0]) in weights.keys():\n",
    "                    cost += weights[(path[i], path[0])]\n",
    "                else:\n",
    "                    cost += weights[(path[0], path[i])]\n",
    "                pass\n",
    "    return cost\n"
   ]
  },
  {
   "cell_type": "code",
   "execution_count": 2,
   "metadata": {},
   "outputs": [],
   "source": [
    "import math\n",
    "def compute_distance(a, b):\n",
    "    a = a['pos']\n",
    "    b = b['pos']\n",
    "    return math.sqrt(math.pow(a[0]-b[0],2) + math.pow(a[1]-b[1],2))\n"
   ]
  },
  {
   "cell_type": "code",
   "execution_count": 3,
   "metadata": {},
   "outputs": [],
   "source": [
    "from graph import MyGraph\n",
    "import torch\n",
    "import os\n",
    "\n",
    "def create_graph_fittizio(\n",
    "     name : str,\n",
    "     dir : str,\n",
    "     lb : int = 0,\n",
    "     ub : int = 100,\n",
    "     n_nodes : int = 50,\n",
    "     #normalized : bool = False,\n",
    "     count : int = 0\n",
    "    ):\n",
    "    G = nx.Graph()\n",
    "    V = set([v + 1 for v in range(n_nodes)])\n",
    "    \n",
    "    E = set()\n",
    "    for combination in combinations(V, 2):\n",
    "        E.add(combination)\n",
    "    coords = []\n",
    "    to_normalize_location = []\n",
    "    max_coord = 0\n",
    "    for i in range(1,n_nodes + 1):\n",
    "        location = (random.randint(lb,ub), random.randint(lb,ub))\n",
    "        if location[0] > max_coord:\n",
    "            max_coord = location[0]\n",
    "        elif location[1] > max_coord:\n",
    "            max_coord = location[1]\n",
    "        to_normalize_location.append(location)\n",
    "    #print(to_normalize_location)\n",
    "    for i, location in enumerate(to_normalize_location):\n",
    "        normalized_location = (location[0]/max_coord, location[1]/max_coord)\n",
    "        #print(normalized_location)\n",
    "        coords.append(normalized_location)\n",
    "        G.add_node(i+1, pos = normalized_location)\n",
    "    coords = torch.Tensor(coords)\n",
    "    for edge in E:\n",
    "        w = compute_distance(G.nodes[edge[0]], G.nodes[edge[1]])\n",
    "        #print(edge[0], edge[1], w)\n",
    "        G.add_edge(edge[0], edge[1], weight = w)\n",
    "    \n",
    "    tsp = nx.approximation.traveling_salesman_problem\n",
    "    path = tsp(G, cycle=True)\n",
    "    if len(path) > 51:\n",
    "        return count\n",
    "    path = np.array(path)\n",
    "    w_dic = {}\n",
    "    for i in range(1, 51):\n",
    "        for j in range(1,51):\n",
    "            if i != j:\n",
    "                w_dic[(i,j)] = compute_distance(G.nodes[i], G.nodes[j])\n",
    "    #print(w_dic)\n",
    "    cost = path_cost(path, weights = w_dic)\n",
    "    #print(path, cost)\n",
    "    \n",
    "\n",
    "    #TODO salvare i grafi creati\n",
    "    g = MyGraph(name + '.mio', nodes = G.nodes(), coords = coords,weights = w_dic, sub_opt = path, sub_opt_cost= cost)\n",
    "    #print(len(path))\n",
    "    path_to_save = os.path.join(dir, name)\n",
    "    torch.save(g, path_to_save)\n",
    "    return count + 1"
   ]
  },
  {
   "cell_type": "code",
   "execution_count": 4,
   "metadata": {},
   "outputs": [],
   "source": [
    "import networkx as nx\n",
    "import numpy as np\n",
    "import random\n",
    "from itertools import combinations\n",
    "\n",
    "def get_weight(a, b):\n",
    "    a = a['pos']\n",
    "    b = b['pos']\n",
    "    return int(np.sqrt((a[0]-b[0])**2 + (b[1]-a[1])**2))\n",
    "\n"
   ]
  },
  {
   "cell_type": "code",
   "execution_count": 5,
   "metadata": {},
   "outputs": [
    {
     "name": "stdout",
     "output_type": "stream",
     "text": [
      "Path created correctly\n"
     ]
    }
   ],
   "source": [
    "from utility import create_dir\n",
    "name_dir = 'generated_train'\n",
    "create_dir(name_dir)\n",
    "count = 0\n",
    "while count < 100000:\n",
    "    count = create_graph_fittizio(f'{name_dir}_' + str(count) + '.mio', name_dir, ub = 1000, count = count)"
   ]
  },
  {
   "cell_type": "code",
   "execution_count": 6,
   "metadata": {},
   "outputs": [],
   "source": [
    "for i in range(100000):\n",
    "    x = torch.load(f'{name_dir}/{name_dir}_{i}.mio')\n",
    "    if (len(x.sub_opt)) > 51:\n",
    "        print(x.sub_opt_cost)\n",
    "        print(x.coords)\n"
   ]
  },
  {
   "cell_type": "code",
   "execution_count": null,
   "metadata": {},
   "outputs": [],
   "source": []
  },
  {
   "cell_type": "code",
   "execution_count": 7,
   "metadata": {},
   "outputs": [
    {
     "name": "stdout",
     "output_type": "stream",
     "text": [
      "Path created correctly\n"
     ]
    }
   ],
   "source": [
    "from utility import create_dir\n",
    "name_dir = 'generated_test'\n",
    "create_dir(name_dir)\n",
    "count = 0\n",
    "while count < 10000:\n",
    "    count = create_graph_fittizio(f'{name_dir}_' + str(count) + '.mio', name_dir, ub = 1000, count = count)"
   ]
  },
  {
   "cell_type": "code",
   "execution_count": null,
   "metadata": {},
   "outputs": [],
   "source": [
    "for i in range(10000):\n",
    "    x = torch.load(f'{name_dir}/{name_dir}_{i}.mio')\n",
    "    if (len(x.sub_opt)) != 51 or (x.sub_opt_cost > 8):\n",
    "        print(i)\n",
    "        print(x.coords.shape)\n",
    "        print(x.coords)\n",
    "        print(x.nodes)\n"
   ]
  },
  {
   "cell_type": "code",
   "execution_count": null,
   "metadata": {},
   "outputs": [],
   "source": []
  }
 ],
 "metadata": {
  "kernelspec": {
   "display_name": "base",
   "language": "python",
   "name": "python3"
  },
  "language_info": {
   "codemirror_mode": {
    "name": "ipython",
    "version": 3
   },
   "file_extension": ".py",
   "mimetype": "text/x-python",
   "name": "python",
   "nbconvert_exporter": "python",
   "pygments_lexer": "ipython3",
   "version": "3.9.13"
  },
  "orig_nbformat": 4,
  "vscode": {
   "interpreter": {
    "hash": "f48660326a9d18d5603b8bf2614726b25edfcc770360e1ddf592213006fceba5"
   }
  }
 },
 "nbformat": 4,
 "nbformat_minor": 2
}
