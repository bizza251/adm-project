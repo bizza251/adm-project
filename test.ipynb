{
 "cells": [
  {
   "cell_type": "code",
   "execution_count": 1,
   "metadata": {},
   "outputs": [],
   "source": [
    "import numpy as np"
   ]
  },
  {
   "cell_type": "code",
   "execution_count": 7,
   "metadata": {},
   "outputs": [],
   "source": [
    "a = np.array([[28,  1],\n",
    "       [28,  2],\n",
    "       [28,  3],\n",
    "       [28,  4],\n",
    "       [28,  5],\n",
    "       [28,  6],\n",
    "       [28,  7],\n",
    "       [28,  8],\n",
    "       [28,  9],\n",
    "       [28, 10],\n",
    "       [28, 11],\n",
    "       [28, 12],\n",
    "       [28, 13],\n",
    "       [28, 14],\n",
    "       [28, 15],\n",
    "       [28, 16],\n",
    "       [28, 17],\n",
    "       [28, 18],\n",
    "       [28, 19],\n",
    "       [28, 20],\n",
    "       [28, 21],\n",
    "       [28, 22],\n",
    "       [28, 23],\n",
    "       [28, 24],\n",
    "       [28, 25],\n",
    "       [28, 26],\n",
    "       [28, 27],\n",
    "       [28, 29]])"
   ]
  },
  {
   "cell_type": "code",
   "execution_count": 9,
   "metadata": {},
   "outputs": [
    {
     "data": {
      "text/plain": [
       "array([ 1,  2,  3,  4,  5,  6,  7,  8,  9, 10, 11, 12, 13, 14, 15, 16, 17,\n",
       "       18, 19, 20, 21, 22, 23, 24, 25, 26, 27, 29])"
      ]
     },
     "execution_count": 9,
     "metadata": {},
     "output_type": "execute_result"
    }
   ],
   "source": [
    "b = a[:,1]\n",
    "\n",
    "b"
   ]
  },
  {
   "cell_type": "code",
   "execution_count": 3,
   "metadata": {},
   "outputs": [],
   "source": [
    "def path_cost(path : list, weights : dict, cycle=True) -> int:\n",
    "    \"\"\"Computes the cost of the given path\n",
    "\n",
    "    Args:\n",
    "        path (list): tour taken\\n\n",
    "        weights (dict): key -> edge : value -> weight.\\n\n",
    "        cycle (bool, optional): [description]. Defaults to True.\\n\n",
    "\n",
    "    Returns:\n",
    "        int: final cost\n",
    "    \"\"\"\n",
    "    cost = 0\n",
    "    if cycle:\n",
    "        for i in range(len(path) - 1):\n",
    "            try:\n",
    "                cost += weights[(path[i],path[i+1])]\n",
    "            except:\n",
    "                cost += weights[(path[i], path[0])]\n",
    "    return cost"
   ]
  }
 ],
 "metadata": {
  "interpreter": {
   "hash": "0cdca79e5b1d806c1fae57ba14ce6bdd3b490e663622e041de61b72901630da4"
  },
  "kernelspec": {
   "display_name": "Python 3.8.5 64-bit ('venv': venv)",
   "language": "python",
   "name": "python3"
  },
  "language_info": {
   "codemirror_mode": {
    "name": "ipython",
    "version": 3
   },
   "file_extension": ".py",
   "mimetype": "text/x-python",
   "name": "python",
   "nbconvert_exporter": "python",
   "pygments_lexer": "ipython3",
   "version": "3.8.5"
  },
  "orig_nbformat": 4
 },
 "nbformat": 4,
 "nbformat_minor": 2
}
