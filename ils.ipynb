{
 "cells": [
  {
   "cell_type": "code",
   "execution_count": 11,
   "metadata": {},
   "outputs": [],
   "source": [
    "from problem_solver import problem_solver\n",
    "import torch\n",
    "from utility import path_cost\n",
    "import numpy as np\n",
    "from typing import Union, Callable\n",
    "\n",
    "graph = torch.load('generated_20_eval/generated_20_eval_0.mio')"
   ]
  },
  {
   "cell_type": "code",
   "execution_count": 96,
   "metadata": {},
   "outputs": [],
   "source": [
    "def perturb(tour: np.array, n_permutations: int = 2) -> np.array:\n",
    "    for i in range(n_permutations):\n",
    "        x, y = None, None\n",
    "        while (x is None or y is None) or (x == y):\n",
    "            x, y = np.random.randint(1, tour.shape[0]-1), np.random.randint(1, tour.shape[0]-1)\n",
    "        _ = tour[x]\n",
    "        tour[x] = tour[y]\n",
    "        tour[y] = _\n",
    "    return tour\n",
    "\n",
    "def hillclimbing(objective: Callable, graph, start_pt: np.array, n_iterations: int) -> Union[np.array, float]:\n",
    "    best = start_pt\n",
    "    best_eval = objective(best, graph.weights)\n",
    "    for i in range(n_iterations):\n",
    "        start_pt = None\n",
    "        while start_pt is None:\n",
    "            start_pt = perturb(best, 7)\n",
    "            proposed_tour, proposed_eval = start_pt, objective(start_pt, graph.weights)\n",
    "        if proposed_eval < best_eval:\n",
    "            best, best_eval = proposed_tour, proposed_eval\n",
    "    return best, best_eval\n",
    "\n",
    "def iterated_local_search(objective: Callable, graph, n_restarts: int, n_iterations: int, start_pt: np.array) -> Union[np.array, float]:\n",
    "    best = start_pt\n",
    "    best_eval = objective(best, graph.weights)\n",
    "    for i in range(n_restarts):\n",
    "        start_pt = None\n",
    "        while start_pt is None:\n",
    "            start_pt = perturb(best, 15)\n",
    "        proposed_tour, proposed_eval = hillclimbing(objective, graph, start_pt, n_iterations)\n",
    "        if proposed_eval < best_eval:\n",
    "            best, best_eval = proposed_tour, proposed_eval\n",
    "    return best, best_eval"
   ]
  },
  {
   "cell_type": "code",
   "execution_count": 100,
   "metadata": {},
   "outputs": [
    {
     "name": "stdout",
     "output_type": "stream",
     "text": [
      "(array([ 1,  4,  9, 13, 16,  7, 14, 11, 20, 10,  8, 18,  2, 15, 17, 19, 12,\n",
      "        6,  3,  5,  1]), 6.842883885082985)\n",
      "start_pt: [ 1  4  9 13 16  7 14 11 20 10  8 18  2 15 17 19 12  6  3  5  1] 11.729307031820374\n",
      "optimal_pt: [ 1 11  7 20 17 12 15  9 16  8  6  5 13 19 10  2 18  3 14  4  1] 4.187348527395455\n"
     ]
    }
   ],
   "source": [
    "start_pt = np.arange(21) + 1\n",
    "start_pt[-1] = start_pt[0]\n",
    "eval_pt = path_cost(start_pt, graph.weights)\n",
    "n_restarts = 100\n",
    "n_iterations = 500\n",
    "\n",
    "print(iterated_local_search(path_cost, graph, n_restarts, n_iterations, start_pt))\n",
    "print('start_pt:', start_pt, eval_pt)\n",
    "print('optimal_pt:', graph.sub_opt, graph.sub_opt_cost)"
   ]
  },
  {
   "cell_type": "code",
   "execution_count": null,
   "metadata": {},
   "outputs": [],
   "source": []
  }
 ],
 "metadata": {
  "kernelspec": {
   "display_name": "base",
   "language": "python",
   "name": "python3"
  },
  "language_info": {
   "codemirror_mode": {
    "name": "ipython",
    "version": 3
   },
   "file_extension": ".py",
   "mimetype": "text/x-python",
   "name": "python",
   "nbconvert_exporter": "python",
   "pygments_lexer": "ipython3",
   "version": "3.9.13"
  },
  "orig_nbformat": 4,
  "vscode": {
   "interpreter": {
    "hash": "f48660326a9d18d5603b8bf2614726b25edfcc770360e1ddf592213006fceba5"
   }
  }
 },
 "nbformat": 4,
 "nbformat_minor": 2
}
